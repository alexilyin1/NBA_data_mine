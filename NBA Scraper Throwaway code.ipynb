{
 "cells": [
  {
   "cell_type": "code",
   "execution_count": 1,
   "metadata": {},
   "outputs": [],
   "source": [
    "### Throwaway code"
   ]
  },
  {
   "cell_type": "code",
   "execution_count": 1,
   "metadata": {},
   "outputs": [],
   "source": [
    "\n",
    "def individual_stat_scaper(url):\n",
    "    driver.get(url)\n",
    "    time.sleep(5)\n",
    "    \n",
    "    search_query = input('Enter the name of the player you would like to find stats for: ')\n",
    "    search = driver.find_element_by_name('search')\n",
    "    search.send_keys(search_query)\n",
    "    submit = driver.find_element_by_css_selector(\"input[type='submit']\")\n",
    "    submit.send_keys(Keys.RETURN)\n",
    "    time.sleep(5)\n",
    "    player_url = str(driver.current_url)\n",
    "    page = myopener.open(player_url)\n",
    "    html = page.read().decode('utf-8')\n",
    "    soup = BeautifulSoup(html, 'html.parser')\n",
    "    season = input('Enter the season you would like to see the stats for: ')\n",
    "    if season:\n",
    "        stats = soup.find_all('tr', {'id': 'per_game.' + season})\n",
    "        if len(stats) == 0:\n",
    "            print('You have probably selected a non-existent player, try again.')\n",
    "    driver.quit()\n",
    "\n",
    "        \n",
    "def stat_lookup():\n",
    "    stat_lines = stats[0].find_all('td', {'class': 'right'})\n",
    "    player_age = stats[0].find('td', {'class': 'center'})\n",
    "\n",
    "    stat_query = input('Enter the stat you would like to search for, press enter for all stats: ')\n",
    "    if stat_query:\n",
    "        for i in range(len(col_names)):\n",
    "            stat = ''\n",
    "            if stat_query in col_names[i]:\n",
    "                stat = stat_lines[col_names.index(stat_query)].get_text()\n",
    "                print(stat)\n",
    "                i_stats_list.append(stat)\n",
    "                i_stat_names.append(stat_query)\n",
    "                i_season_years.append(str(int(season) - 1) + '-' + season)\n",
    "                break\n",
    "        if stat == '':\n",
    "            print('You have entered an invalid stat, choose from the list below:')\n",
    "            print(col_names)\n",
    "    else:\n",
    "        for line in stat_lines:\n",
    "            print(line.get_text())\n",
    "    continue_query = input('Would you like to find another stat? y or n: ')\n",
    "    if continue_query == 'y':\n",
    "        stat_lookup()\n",
    "    else:\n",
    "        pass "
   ]
  },
  {
   "cell_type": "code",
   "execution_count": 52,
   "metadata": {},
   "outputs": [
    {
     "data": {
      "text/plain": [
       "array([[69. ,  2.6,  1.2,  0.1,  0.4],\n",
       "       [78. ,  1.6,  0.8,  0.7,  0.8],\n",
       "       [21. ,  0.1,  0.2,  0. ,  0.3],\n",
       "       ...,\n",
       "       [68. ,  2.1,  1.5,  0.2,  0.6],\n",
       "       [76. ,  1.7,  1.6,  0.3,  0.8],\n",
       "       [68. ,  0.4,  0.9,  0.3,  0.3]])"
      ]
     },
     "execution_count": 52,
     "metadata": {},
     "output_type": "execute_result"
    }
   ],
   "source": [
    "X.values\n",
    "\n"
   ]
  }
 ],
 "metadata": {
  "kernelspec": {
   "display_name": "Python 3",
   "language": "python",
   "name": "python3"
  },
  "language_info": {
   "codemirror_mode": {
    "name": "ipython",
    "version": 3
   },
   "file_extension": ".py",
   "mimetype": "text/x-python",
   "name": "python",
   "nbconvert_exporter": "python",
   "pygments_lexer": "ipython3",
   "version": "3.8.1-final"
  }
 },
 "nbformat": 4,
 "nbformat_minor": 4
}