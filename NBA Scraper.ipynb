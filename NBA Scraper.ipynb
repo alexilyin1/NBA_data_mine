{
 "cells": [
  {
   "cell_type": "code",
   "execution_count": 1,
   "metadata": {},
   "outputs": [],
   "source": [
    "### Scraping NBA Data"
   ]
  },
  {
   "cell_type": "code",
   "execution_count": 22,
   "metadata": {
    "tags": [
     "outputPrepend"
    ]
   },
   "outputs": [
    {
     "output_type": "error",
     "ename": "SyntaxError",
     "evalue": "invalid syntax (<ipython-input-22-677f5c532f36>, line 92)",
     "traceback": [
      "\u001b[1;36m  File \u001b[1;32m\"<ipython-input-22-677f5c532f36>\"\u001b[1;36m, line \u001b[1;32m92\u001b[0m\n\u001b[1;33m    df.to_csv(file_str, sep='\\t', index=False)_stats = input('Would you like to search for invidivual player stats (i) or league wide stats (l): ')\u001b[0m\n\u001b[1;37m                                              ^\u001b[0m\n\u001b[1;31mSyntaxError\u001b[0m\u001b[1;31m:\u001b[0m invalid syntax\n"
     ]
    }
   ],
   "source": [
    "import time\n",
    "import bs4 as bs\n",
    "import pandas as pd \n",
    "\n",
    "from urllib.request import FancyURLopener  \n",
    "from random import choice \n",
    "from bs4 import SoupStrainer, BeautifulSoup\n",
    "\n",
    "from selenium import webdriver\n",
    "from selenium.webdriver.common.keys import Keys\n",
    "from selenium.webdriver.chrome.options import Options\n",
    "# chrome_options = Options()\n",
    "# chrome_options.add_argument('--headless')\n",
    "# chrome_options.add_argument('--no-sandbox')\n",
    "# chrome_options.add_argument('--disable-dev-shm-usage')\n",
    "# driver = webdriver.Chrome('/usr/local/bin/chromedriver', chrome_options = chrome_options)\n",
    "driver = webdriver.Chrome()\n",
    "\n",
    "user_agents = [\n",
    "    'Mozilla/5.0 (Windows NT 6.1) AppleWebKit/537.36 (KHTML, like Gecko) Chrome/41.0.2228.0 Safari/537.36',\n",
    "    'Opera/9.80 (X11; Linux i686; Ubuntu/14.10) Presto/2.12.388 Version/12.16',\n",
    "    'Mozilla/5.0 (Windows; U; Windows NT 6.1; rv:2.2) Gecko/20110201',\n",
    "    'Mozilla/5.0 (Macintosh; Intel Mac OS X 10_9_3) AppleWebKit/537.75.14 (KHTML, like Gecko) Version/7.0.3 Safari/7046A194A',\n",
    "    'Mozilla/5.0 (Windows NT 10.0; Win64; x64) AppleWebKit/537.36 (KHTML, like Gecko) Chrome/42.0.2311.135 Safari/537.36 Edge/12.246'\n",
    "]\n",
    "\n",
    "class MyOpener(FancyURLopener, object):\n",
    "    version = choice(user_agents)\n",
    "myopener = MyOpener()\n",
    "\n",
    "invidivual_url = 'https://www.basketball-reference.com/'\n",
    "\n",
    "col_names = ['Position', 'Age', 'Team', 'Games', 'Games Started', 'Minutes Played',\n",
    "             'Field Goals', 'Field Goals Attempted', 'Field Goal Percentage', 'Three Pointers', \n",
    "             'Three Pointers Attempted', 'Three Point Percentage', 'Two Pointers', 'Two Pointers Attemped',\n",
    "             'Two Point Percentage', 'eFG%', 'Free Throws', 'Free Throws Attempted', 'Free Throw Percentage',\n",
    "             'Offensive Rebounds', 'Defensive Rebounds', 'Total Rebound', 'Assists',\n",
    "             'Steals', 'Blocks', 'Turnovers', 'Personal Fouls', 'Points']\n",
    "\n",
    "# Clear lists by running this block\n",
    "i_season_years = []\n",
    "i_stat_names = []\n",
    "i_stats_list = []\n",
    "######\n",
    "    \n",
    "def league_scraper():\n",
    "    page = myopener.open('https://www.basketball-reference.com/leagues/NBA_' + which_season[5:9] + '_per_game.html')\n",
    "    html = page.read().decode('utf-8')\n",
    "    soup = BeautifulSoup(html, 'html.parser')\n",
    "    time.sleep(5)\n",
    "    \n",
    "    player_names_html = soup.find_all('td', {'class': 'left'})\n",
    "    for i in range(0, len(player_names_html)):\n",
    "        player_names = player_names_html[i].find_all('a')\n",
    "        if 'player' in str(player_names):\n",
    "            player_names_list.append(player_names[0].get_text())\n",
    "\n",
    "    all_players = soup.find_all('tr')\n",
    "    for i in range(1, len(all_players)):\n",
    "        player = all_players[i].find_all('td')\n",
    "        for j in range(1, len(player)):\n",
    "            player_stats = player[j].get_text()\n",
    "            player_stats_list.append(player_stats)\n",
    "    \n",
    "    driver.get('https://www.basketball-reference.com/leagues/NBA_' + which_season[5:9] + '_per_game.html')\n",
    "    i = 2\n",
    "    team_code = []\n",
    "    while i < len(player_stats_list):\n",
    "        team_code.append(player_stats_list[i])\n",
    "        i = i + 28\n",
    "    '''\n",
    "    team_code = list(dict.fromkeys(team_code))\n",
    "    for i in range(len(team_code)):\n",
    "        driver.findElement(By.linkText(team_code[i])).click()\n",
    "        team_url = str(driver.current_url)\n",
    "    '''\n",
    "\n",
    "    x = 0\n",
    "    y = 28\n",
    "    for i in range(0,len(player_names_list)):\n",
    "        player_stats_fixed.append(player_stats_list[x:y])\n",
    "        x = x + 28\n",
    "        y = y + 28\n",
    "    \n",
    "    df = pd.DataFrame(player_stats_fixed, columns = col_names)\n",
    "    df.insert(0, 'Name', player_names_list)\n",
    "    df.set_index('Name')\n",
    "    df.apply(pd.to_numeric, errors='ignore')\n",
    "    df.astype({'Position': str, 'Team': str})\n",
    "    \n",
    "    file_str = 'data/' + which_season + '_player_stats.csv'\n",
    "    df.to_csv(file_str, sep='\\t', index=False)_stats = input('Would you like to search for invidivual player stats (i) or league wide stats (l): ')\n",
    "if which_stats == 'i':\n",
    "    individual_stat_scaper(individual_url)\n",
    "    stat_lookup()\n",
    "elif which_stats == 'l':\n",
    "    which_season = input('Enter the season you would like to find input for (i.e. 2018-2019): ')\n",
    "    split_years = which_season.split('-')\n",
    "    year1 = int(split_years[0])\n",
    "    year2 = int(split_years[1])\n",
    "    while year1 < 2018 and year2 < 2019:\n",
    "        which_season = str(year1) + '-' + str(year2) \n",
    "        player_names_list = []\n",
    "        player_stats_list = []\n",
    "        player_stats_fixed = []\n",
    "        league_scraper()\n",
    "        player_names_list = []\n",
    "        player_stats_list = []\n",
    "        player_stats_fixed = []\n",
    "        year1 = year1 + 1\n",
    "        year2 = year2 + 1\n",
    ""
   ]
  },
  {
   "cell_type": "code",
   "execution_count": 3,
   "metadata": {},
   "outputs": [
    {
     "ename": "NameError",
     "evalue": "name 'df' is not defined",
     "output_type": "error",
     "traceback": [
      "\u001b[0;31m---------------------------------------------------------------------------\u001b[0m",
      "\u001b[0;31mNameError\u001b[0m                                 Traceback (most recent call last)",
      "\u001b[0;32m<ipython-input-3-b614b8dea215>\u001b[0m in \u001b[0;36m<module>\u001b[0;34m\u001b[0m\n\u001b[1;32m      1\u001b[0m \u001b[0mfilename\u001b[0m \u001b[0;34m=\u001b[0m \u001b[0mwhich_season\u001b[0m\u001b[0;34m+\u001b[0m\u001b[0;34m' Player Stats.csv'\u001b[0m\u001b[0;34m\u001b[0m\u001b[0;34m\u001b[0m\u001b[0m\n\u001b[0;32m----> 2\u001b[0;31m \u001b[0mdf\u001b[0m\u001b[0;34m.\u001b[0m\u001b[0mto_csv\u001b[0m\u001b[0;34m(\u001b[0m\u001b[0mfilename\u001b[0m\u001b[0;34m,\u001b[0m \u001b[0msep\u001b[0m\u001b[0;34m=\u001b[0m\u001b[0;34m'\\t'\u001b[0m\u001b[0;34m,\u001b[0m \u001b[0mindex\u001b[0m\u001b[0;34m=\u001b[0m\u001b[0;32mFalse\u001b[0m\u001b[0;34m)\u001b[0m\u001b[0;34m\u001b[0m\u001b[0;34m\u001b[0m\u001b[0m\n\u001b[0m",
      "\u001b[0;31mNameError\u001b[0m: name 'df' is not defined"
     ]
    }
   ],
   "source": [
    "filename = which_season+' Player Stats.csv'\n",
    "df.to_csv(filename, sep='\\t', index=False)"
   ]
  },
  {
   "cell_type": "code",
   "execution_count": 4,
   "metadata": {},
   "outputs": [],
   "source": [
    "# Objective 1: Find Relation Between \"League Champion\" and Player Stats\n",
    "# First find the league champion\n",
    "import os \n",
    "\n",
    "csv_dir = os.getcwd()\n",
    "dir_tree = os.walk(csv_dir)\n",
    "csv_list = []\n",
    "for dirpath, dirnames, filenames in dir_tree:\n",
    "    for file in filenames:\n",
    "        if file.endswith('.csv'):\n",
    "            csv_list.append(file)\n",
    "            \n",
    "combined_csv = pd.concat([pd.read_csv(f) for f in csv_list[0:8]])\n",
    "combined_csv.to_csv( \"combined_csv.csv\", index=False, encoding='utf-8-sig')\n",
    "\n",
    "page = myopener.open('https://www.basketball-reference.com/leagues/NBA_' + which_season[5:9] + '_per_game.html')\n",
    "time.sleep(5)\n",
    "html = page.read().decode('utf-8')\n",
    "soup = BeautifulSoup(html, 'html.parser')\n",
    "team_p_html = soup.find_all('p')\n",
    "for i in range(len(team_p_html)):\n",
    "    if 'teams' in str(team_p_html[i]):\n",
    "        team_name_html = team_p_html[i].find('a')\n",
    "        champions = team_name_html.get_text()\n",
    "        break\n",
    "    else:\n",
    "        continue"
   ]
  },
  {
   "cell_type": "code",
   "execution_count": 5,
   "metadata": {},
   "outputs": [
    {
     "name": "stdout",
     "output_type": "stream",
     "text": [
      "Golden State Warriors\n"
     ]
    }
   ],
   "source": [
    "print(champions)"
   ]
  },
  {
   "cell_type": "code",
   "execution_count": 6,
   "metadata": {},
   "outputs": [
    {
     "data": {
      "text/plain": [
       "['2015-2016 Player Stats.csv',\n",
       " '2010-2011 Player Stats.csv',\n",
       " 'combined_csv.csv',\n",
       " '2014-2015 Player Stats.csv',\n",
       " '2017-2018 Player Stats.csv',\n",
       " '2011-2012 Player Stats.csv',\n",
       " '2012-2013 Player Stats.csv',\n",
       " '2013-2014 Player Stats.csv',\n",
       " '2016-2017 Player Stats.csv',\n",
       " '2015-2016 Player Stats-checkpoint.csv']"
      ]
     },
     "execution_count": 6,
     "metadata": {},
     "output_type": "execute_result"
    }
   ],
   "source": [
    "csv_list"
   ]
  },
  {
   "cell_type": "code",
   "execution_count": null,
   "metadata": {},
   "outputs": [],
   "source": [
    "df = pd.read_csv('2015-2016 Player Stats.csv', sep='\\t', engine='python')\n",
    "df"
   ]
  },
  {
   "cell_type": "code",
   "execution_count": null,
   "metadata": {},
   "outputs": [],
   "source": [
    "df = df.groupby('Name').mean()\n",
    "df"
   ]
  },
  {
   "cell_type": "code",
   "execution_count": 10,
   "metadata": {},
   "outputs": [
    {
     "data": {
      "text/plain": [
       "Text(0, 0.5, 'Three Pointers')"
      ]
     },
     "execution_count": 10,
     "metadata": {},
     "output_type": "execute_result"
    },
    {
     "data": {
      "image/png": "[encoded data removed]",
      "text/plain": [
       "<Figure size 432x288 with 1 Axes>"
      ]
     },
     "metadata": {
      "needs_background": "light"
     },
     "output_type": "display_data"
    }
   ],
   "source": [
    "import matplotlib.pyplot as plt \n",
    "\n",
    "plt.scatter('Games', 'Three Pointers', c='c', data = df)\n",
    "plt.xlabel('Games')\n",
    "plt.ylabel('Three Pointers')"
   ]
  },
  {
   "cell_type": "code",
   "execution_count": 135,
   "metadata": {},
   "outputs": [
    {
     "name": "stdout",
     "output_type": "stream",
     "text": [
      "R^2: 0.71674309914771\n",
      "Root Mean Squared Error: 2.793332056995373\n"
     ]
    },
    {
     "ename": "ValueError",
     "evalue": "x and y must be the same size",
     "output_type": "error",
     "traceback": [
      "\u001b[0;31m---------------------------------------------------------------------------\u001b[0m",
      "\u001b[0;31mValueError\u001b[0m                                Traceback (most recent call last)",
      "\u001b[0;32m<ipython-input-135-e9f61c617240>\u001b[0m in \u001b[0;36m<module>\u001b[0;34m\u001b[0m\n\u001b[1;32m     13\u001b[0m \u001b[0mprint\u001b[0m\u001b[0;34m(\u001b[0m\u001b[0;34m\"Root Mean Squared Error: {}\"\u001b[0m\u001b[0;34m.\u001b[0m\u001b[0mformat\u001b[0m\u001b[0;34m(\u001b[0m\u001b[0mrmse\u001b[0m\u001b[0;34m)\u001b[0m\u001b[0;34m)\u001b[0m\u001b[0;34m\u001b[0m\u001b[0;34m\u001b[0m\u001b[0m\n\u001b[1;32m     14\u001b[0m \u001b[0;34m\u001b[0m\u001b[0m\n\u001b[0;32m---> 15\u001b[0;31m \u001b[0mplt\u001b[0m\u001b[0;34m.\u001b[0m\u001b[0mscatter\u001b[0m\u001b[0;34m(\u001b[0m\u001b[0mX_test\u001b[0m\u001b[0;34m[\u001b[0m\u001b[0;34m:\u001b[0m\u001b[0;34m,\u001b[0m\u001b[0;34m:\u001b[0m\u001b[0;36m1\u001b[0m\u001b[0;34m]\u001b[0m\u001b[0;34m.\u001b[0m\u001b[0mshape\u001b[0m\u001b[0;34m,\u001b[0m \u001b[0my_train\u001b[0m\u001b[0;34m,\u001b[0m  \u001b[0mcolor\u001b[0m\u001b[0;34m=\u001b[0m\u001b[0;34m'black'\u001b[0m\u001b[0;34m)\u001b[0m\u001b[0;34m\u001b[0m\u001b[0;34m\u001b[0m\u001b[0m\n\u001b[0m\u001b[1;32m     16\u001b[0m \u001b[0mplt\u001b[0m\u001b[0;34m.\u001b[0m\u001b[0mplot\u001b[0m\u001b[0;34m(\u001b[0m\u001b[0mX_test\u001b[0m\u001b[0;34m,\u001b[0m \u001b[0my_pred\u001b[0m\u001b[0;34m,\u001b[0m \u001b[0mcolor\u001b[0m\u001b[0;34m=\u001b[0m\u001b[0;34m'blue'\u001b[0m\u001b[0;34m,\u001b[0m \u001b[0mlinewidth\u001b[0m\u001b[0;34m=\u001b[0m\u001b[0;36m3\u001b[0m\u001b[0;34m)\u001b[0m\u001b[0;34m\u001b[0m\u001b[0;34m\u001b[0m\u001b[0m\n\u001b[1;32m     17\u001b[0m \u001b[0;34m\u001b[0m\u001b[0m\n",
      "\u001b[0;32m/usr/local/lib/python3.6/dist-packages/matplotlib/pyplot.py\u001b[0m in \u001b[0;36mscatter\u001b[0;34m(x, y, s, c, marker, cmap, norm, vmin, vmax, alpha, linewidths, verts, edgecolors, plotnonfinite, data, **kwargs)\u001b[0m\n\u001b[1;32m   2845\u001b[0m         \u001b[0mverts\u001b[0m\u001b[0;34m=\u001b[0m\u001b[0mverts\u001b[0m\u001b[0;34m,\u001b[0m \u001b[0medgecolors\u001b[0m\u001b[0;34m=\u001b[0m\u001b[0medgecolors\u001b[0m\u001b[0;34m,\u001b[0m\u001b[0;34m\u001b[0m\u001b[0;34m\u001b[0m\u001b[0m\n\u001b[1;32m   2846\u001b[0m         plotnonfinite=plotnonfinite, **({\"data\": data} if data is not\n\u001b[0;32m-> 2847\u001b[0;31m         None else {}), **kwargs)\n\u001b[0m\u001b[1;32m   2848\u001b[0m     \u001b[0msci\u001b[0m\u001b[0;34m(\u001b[0m\u001b[0m__ret\u001b[0m\u001b[0;34m)\u001b[0m\u001b[0;34m\u001b[0m\u001b[0;34m\u001b[0m\u001b[0m\n\u001b[1;32m   2849\u001b[0m     \u001b[0;32mreturn\u001b[0m \u001b[0m__ret\u001b[0m\u001b[0;34m\u001b[0m\u001b[0;34m\u001b[0m\u001b[0m\n",
      "\u001b[0;32m/usr/local/lib/python3.6/dist-packages/matplotlib/__init__.py\u001b[0m in \u001b[0;36minner\u001b[0;34m(ax, data, *args, **kwargs)\u001b[0m\n\u001b[1;32m   1599\u001b[0m     \u001b[0;32mdef\u001b[0m \u001b[0minner\u001b[0m\u001b[0;34m(\u001b[0m\u001b[0max\u001b[0m\u001b[0;34m,\u001b[0m \u001b[0;34m*\u001b[0m\u001b[0margs\u001b[0m\u001b[0;34m,\u001b[0m \u001b[0mdata\u001b[0m\u001b[0;34m=\u001b[0m\u001b[0;32mNone\u001b[0m\u001b[0;34m,\u001b[0m \u001b[0;34m**\u001b[0m\u001b[0mkwargs\u001b[0m\u001b[0;34m)\u001b[0m\u001b[0;34m:\u001b[0m\u001b[0;34m\u001b[0m\u001b[0;34m\u001b[0m\u001b[0m\n\u001b[1;32m   1600\u001b[0m         \u001b[0;32mif\u001b[0m \u001b[0mdata\u001b[0m \u001b[0;32mis\u001b[0m \u001b[0;32mNone\u001b[0m\u001b[0;34m:\u001b[0m\u001b[0;34m\u001b[0m\u001b[0;34m\u001b[0m\u001b[0m\n\u001b[0;32m-> 1601\u001b[0;31m             \u001b[0;32mreturn\u001b[0m \u001b[0mfunc\u001b[0m\u001b[0;34m(\u001b[0m\u001b[0max\u001b[0m\u001b[0;34m,\u001b[0m \u001b[0;34m*\u001b[0m\u001b[0mmap\u001b[0m\u001b[0;34m(\u001b[0m\u001b[0msanitize_sequence\u001b[0m\u001b[0;34m,\u001b[0m \u001b[0margs\u001b[0m\u001b[0;34m)\u001b[0m\u001b[0;34m,\u001b[0m \u001b[0;34m**\u001b[0m\u001b[0mkwargs\u001b[0m\u001b[0;34m)\u001b[0m\u001b[0;34m\u001b[0m\u001b[0;34m\u001b[0m\u001b[0m\n\u001b[0m\u001b[1;32m   1602\u001b[0m \u001b[0;34m\u001b[0m\u001b[0m\n\u001b[1;32m   1603\u001b[0m         \u001b[0mbound\u001b[0m \u001b[0;34m=\u001b[0m \u001b[0mnew_sig\u001b[0m\u001b[0;34m.\u001b[0m\u001b[0mbind\u001b[0m\u001b[0;34m(\u001b[0m\u001b[0max\u001b[0m\u001b[0;34m,\u001b[0m \u001b[0;34m*\u001b[0m\u001b[0margs\u001b[0m\u001b[0;34m,\u001b[0m \u001b[0;34m**\u001b[0m\u001b[0mkwargs\u001b[0m\u001b[0;34m)\u001b[0m\u001b[0;34m\u001b[0m\u001b[0;34m\u001b[0m\u001b[0m\n",
      "\u001b[0;32m/usr/local/lib/python3.6/dist-packages/matplotlib/axes/_axes.py\u001b[0m in \u001b[0;36mscatter\u001b[0;34m(self, x, y, s, c, marker, cmap, norm, vmin, vmax, alpha, linewidths, verts, edgecolors, plotnonfinite, **kwargs)\u001b[0m\n\u001b[1;32m   4442\u001b[0m         \u001b[0my\u001b[0m \u001b[0;34m=\u001b[0m \u001b[0mnp\u001b[0m\u001b[0;34m.\u001b[0m\u001b[0mma\u001b[0m\u001b[0;34m.\u001b[0m\u001b[0mravel\u001b[0m\u001b[0;34m(\u001b[0m\u001b[0my\u001b[0m\u001b[0;34m)\u001b[0m\u001b[0;34m\u001b[0m\u001b[0;34m\u001b[0m\u001b[0m\n\u001b[1;32m   4443\u001b[0m         \u001b[0;32mif\u001b[0m \u001b[0mx\u001b[0m\u001b[0;34m.\u001b[0m\u001b[0msize\u001b[0m \u001b[0;34m!=\u001b[0m \u001b[0my\u001b[0m\u001b[0;34m.\u001b[0m\u001b[0msize\u001b[0m\u001b[0;34m:\u001b[0m\u001b[0;34m\u001b[0m\u001b[0;34m\u001b[0m\u001b[0m\n\u001b[0;32m-> 4444\u001b[0;31m             \u001b[0;32mraise\u001b[0m \u001b[0mValueError\u001b[0m\u001b[0;34m(\u001b[0m\u001b[0;34m\"x and y must be the same size\"\u001b[0m\u001b[0;34m)\u001b[0m\u001b[0;34m\u001b[0m\u001b[0;34m\u001b[0m\u001b[0m\n\u001b[0m\u001b[1;32m   4445\u001b[0m \u001b[0;34m\u001b[0m\u001b[0m\n\u001b[1;32m   4446\u001b[0m         \u001b[0;32mif\u001b[0m \u001b[0ms\u001b[0m \u001b[0;32mis\u001b[0m \u001b[0;32mNone\u001b[0m\u001b[0;34m:\u001b[0m\u001b[0;34m\u001b[0m\u001b[0;34m\u001b[0m\u001b[0m\n",
      "\u001b[0;31mValueError\u001b[0m: x and y must be the same size"
     ]
    },
    {
     "data": {
      "image/png": "[encoded data removed]",
      "text/plain": [
       "<Figure size 432x288 with 1 Axes>"
      ]
     },
     "metadata": {
      "needs_background": "light"
     },
     "output_type": "display_data"
    }
   ],
   "source": [
    "from sklearn.linear_model import LinearRegression\n",
    "from sklearn.metrics import mean_squared_error\n",
    "from sklearn.model_selection import train_test_split\n",
    "import numpy as np\n",
    "\n",
    "X_train, X_test, y_train, y_test = train_test_split(X.values, y.values, test_size = 0.3, random_state=42)\n",
    "reg_all = LinearRegression()\n",
    "reg_all.fit(X_train, y_train)\n",
    "y_pred = reg_all.predict(X_test)\n",
    "mse = mean_squared_error(y_test, y_pred)\n",
    "print(\"R^2: {}\".format(reg_all.score(X_test, y_test)))\n",
    "rmse = np.sqrt(mse)\n",
    "print(\"Root Mean Squared Error: {}\".format(rmse))\n",
    "\n",
    "plt.scatter(X_test[:,:1].shape, y_train,  color='black')\n",
    "plt.plot(X_test, y_pred, color='blue', linewidth=3)\n",
    "\n",
    "plt.xticks(())\n",
    "plt.yticks(())"
   ]
  },
  {
   "cell_type": "code",
   "execution_count": 136,
   "metadata": {},
   "outputs": [
    {
     "data": {
      "text/plain": [
       "(143,)"
      ]
     },
     "execution_count": 136,
     "metadata": {},
     "output_type": "execute_result"
    }
   ],
   "source": [
    "y_test.shape"
   ]
  },
  {
   "cell_type": "code",
   "execution_count": 48,
   "metadata": {},
   "outputs": [],
   "source": [
    "X = df[['Games', 'Assists', 'Turnovers', 'Blocks', 'Steals']]\n",
    "y = df['Points']\n",
    "df_columns = ['Games', 'Assists', 'Turnovers', 'Blocks', 'Steals']"
   ]
  },
  {
   "cell_type": "code",
   "execution_count": 52,
   "metadata": {},
   "outputs": [
    {
     "data": {
      "text/plain": [
       "array([[69. ,  2.6,  1.2,  0.1,  0.4],\n",
       "       [78. ,  1.6,  0.8,  0.7,  0.8],\n",
       "       [21. ,  0.1,  0.2,  0. ,  0.3],\n",
       "       ...,\n",
       "       [68. ,  2.1,  1.5,  0.2,  0.6],\n",
       "       [76. ,  1.7,  1.6,  0.3,  0.8],\n",
       "       [68. ,  0.4,  0.9,  0.3,  0.3]])"
      ]
     },
     "execution_count": 52,
     "metadata": {},
     "output_type": "execute_result"
    }
   ],
   "source": [
    "X.values\n",
    "\n"
   ]
  },
  {
   "cell_type": "code",
   "execution_count": 54,
   "metadata": {},
   "outputs": [],
   "source": [
    "page = myopener.open('https://www.basketball-reference.com/leagues/NBA_2019_per_game.html')\n",
    "html = page.read().decode('utf-8')\n",
    "soup = BeautifulSoup(html, 'html.parser')\n",
    "time.sleep(5)\n",
    "\n",
    "player_names_html = soup.find_all('td', {'class': 'left'})\n",
    "for i in range(0, len(player_names_html)):\n",
    "    player_names = player_names_html[i].find_all('a')\n",
    "    if 'player' in str(player_names):\n",
    "        player_names_list.append(player_names[0].get_text())\n",
    "\n",
    "all_players = soup.find_all('tr')\n",
    "for i in range(1, len(all_players)):\n",
    "    player = all_players[i].find_all('td')\n",
    "    for j in range(1, len(player)):\n",
    "        player_stats = player[j].get_text()\n",
    "        player_stats_list.append(player_stats)"
   ]
  },
  {
   "cell_type": "code",
   "execution_count": null,
   "metadata": {},
   "outputs": [],
   "source": [
    "driver.get('https://www.basketball-reference.com/leagues/NBA_2019_per_game.html')\n",
    "i = 2\n",
    "team_code = []\n",
    "team_wins = []\n",
    "team_losses = []\n",
    "team_record = []\n",
    "while i < len(player_stats_list):\n",
    "    team_code.append(player_stats_list[i])\n",
    "    i = i + 28\n",
    "team_code = list(dict.fromkeys(team_code))\n",
    "for i in range(len(team_code)):\n",
    "    driver.find_element_by_link_text(team_code[i]).click()\n",
    "    team_url = str(driver.current_url)\n",
    "    page = myopener.open(team_url)\n",
    "    html = page.read().decode('utf-8')\n",
    "    soup = BeautifulSoup(html, 'html.parser')\n",
    "    team_record_html = soup.find_all('tr', {'class': 'rowSum'})\n",
    "    print(team_record_html)\n",
    "    # for j in range(len(team_record_html))\n",
    "    driver.back()"
   ]
  },
  {
   "cell_type": "code",
   "execution_count": 76,
   "metadata": {},
   "outputs": [
    {
     "data": {
      "text/plain": [
       "'https://www.basketball-reference.com/teams/PHO/2019.html'"
      ]
     },
     "execution_count": 76,
     "metadata": {},
     "output_type": "execute_result"
    }
   ],
   "source": [
    "team_url"
   ]
  },
  {
   "cell_type": "code",
   "execution_count": 86,
   "metadata": {},
   "outputs": [
    {
     "name": "stdout",
     "output_type": "stream",
     "text": [
      "None\n"
     ]
    }
   ],
   "source": [
    "page = myopener.open('https://www.basketball-reference.com/teams/PHO/2019.html')\n",
    "html = page.read().decode('utf-8')\n",
    "soup = BeautifulSoup(html, 'html.parser')\n",
    "team_record_html = soup.find_all('strong')"
   ]
  },
  {
   "cell_type": "code",
   "execution_count": null,
   "metadata": {},
   "outputs": [],
   "source": []
  }
 ],
 "metadata": {
  "kernelspec": {
   "display_name": "Python 3",
   "language": "python",
   "name": "python3"
  },
  "language_info": {
   "codemirror_mode": {
    "name": "ipython",
    "version": 3
   },
   "file_extension": ".py",
   "mimetype": "text/x-python",
   "name": "python",
   "nbconvert_exporter": "python",
   "pygments_lexer": "ipython3",
   "version": "3.8.1-final"
  }
 },
 "nbformat": 4,
 "nbformat_minor": 4
}